{
  "cells": [
    {
      "cell_type": "raw",
      "metadata": {},
      "source": [
        "---\n",
        "title: \"Francis Banville\"\n",
        "image: pictures/moi.jpg\n",
        "about: \n",
        "  template: trestles\n",
        "  image-shape: rounded\n",
        "  image-width: 18em\n",
        "  links:\n",
        "    - icon: envelope-fill\n",
        "      text: email\n",
        "      href: mailto:francis.banville@umontreal.ca\n",
        "    - icon: twitter\n",
        "      text: twitter\n",
        "      href: https://twitter.com/francisbanv\n",
        "    - icon: github\n",
        "      text: GitHub\n",
        "      href: https://github.com/FrancisBanville\n",
        "    - icon: linkedin\n",
        "      text: Linkedin\n",
        "      href: https://www.linkedin.com/in/francis-banville-890a91192/\n",
        "    - icon: google\n",
        "      text: Google Scholar\n",
        "      href: https://scholar.google.fr/citations?user=jqagMewAAAAJ&hl=fr&oi=ao\n",
        "---"
      ],
      "id": "1d56500c"
    },
    {
      "cell_type": "markdown",
      "metadata": {},
      "source": [
        "## Hi there! Salut!\n",
        "\n",
        "I am a PhD candidate in ecology based in Tiohtià:ke (Montreal, Quebec). I have a profound interest in understanding how living organisms interact with each other and how these relationships, good and bad, can alter our understanding of biodiversity. My love for numbers and computers have led me to develop mathematical models to figure out what drives these interactions at the community level. Specifically, I use maximum entropy to predict the structure of aquatic and terrestrial food webs (complex networks of predators and prey) on a global scale. Considering that winter temperature can be as low as -30 °C in Montreal, I wouldn't be surprised if my eagerness to study the maximum entropy of food webs stemmed from repressed feelings and desires for warmth (to be investigated)."
      ],
      "id": "d53e6176"
    },
    {
      "cell_type": "markdown",
      "metadata": {},
      "source": [
        "--- \n",
        "\n",
        "## education\n",
        "\n",
        "\n",
        "{{< fa graduation-cap >}}\n",
        "\n",
        "\n",
        "\n",
        "PhD in Biological Sciences (2019 - present)\\\n",
        "*Université de Montréal and Université de Sherbrooke*\n",
        "\n",
        "{{< fa graduation-cap >}} BSc in Biological Sciences (2016-18)\n",
        "\n",
        "*Université de Montréal*\n",
        "\n",
        "## experience\n",
        "\n",
        "\n",
        "    ```{html}\n",
        "    <div>\n",
        "    <p class=\"custom-subtitle2\">University of California, Santa Barbara</p>\n",
        "\n",
        "    <p class=\"custom-subtitle2\">Northeastern University</p>\n",
        "    </div>\n",
        "    ```\n",
        "\n",
        "\n",
        "{{< fa apple-whole >}} teaching assistant (2020 - present) Biostatistics and Population dynamics courses, Université de Montréal\n",
        "\n",
        "{{< fa comments >}} symposium co-organizer (2023)\n",
        "\n",
        "33rd symposium of biology, *Université de Montréal*\n",
        "\n",
        "{{< fa laptop >}} programming mentor (2020-22)\n",
        "\n",
        "Data.Trek training program, *Institute for Data Valorization (IVADO)*"
      ],
      "id": "2607fb7e"
    }
  ],
  "metadata": {
    "kernelspec": {
      "name": "python3",
      "language": "python",
      "display_name": "Python 3"
    }
  },
  "nbformat": 4,
  "nbformat_minor": 5
}